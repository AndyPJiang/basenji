{
 "cells": [
  {
   "cell_type": "code",
   "execution_count": 1,
   "metadata": {},
   "outputs": [],
   "source": [
    "import h5py\n",
    "import os\n",
    "import subprocess\n",
    "import tensorflow as tf"
   ]
  },
  {
   "cell_type": "code",
   "execution_count": 2,
   "metadata": {},
   "outputs": [
    {
     "data": {
      "text/plain": [
       "''"
      ]
     },
     "execution_count": 2,
     "metadata": {},
     "output_type": "execute_result"
    }
   ],
   "source": []
  },
  {
   "cell_type": "markdown",
   "metadata": {},
   "source": [
    "## Precursors"
   ]
  },
  {
   "cell_type": "code",
   "execution_count": 2,
   "metadata": {},
   "outputs": [],
   "source": [
    "if not os.path.isfile('data/hg19.ml.fa'):\n",
    "    subprocess.call('curl -o data/hg19.ml.fa https://storage.googleapis.com/basenji_tutorial_data/hg19.ml.fa', shell=True)\n",
    "    subprocess.call('curl -o data/hg19.ml.fa.fai https://storage.googleapis.com/basenji_tutorial_data/hg19.ml.fa.fai', shell=True)\n",
    "    \n",
    "\n",
    "\n",
    "    "
   ]
  },
  {
   "cell_type": "code",
   "execution_count": 3,
   "metadata": {},
   "outputs": [],
   "source": [
    "# if not os.path.isdir('models/heart'):\n",
    "#     os.mkdir('models/heart')\n",
    "# if not os.path.isfile('models/heart/model_best.tf.meta'):\n",
    "#     subprocess.call('curl -o models/heart/model_best.tf.index https://storage.googleapis.com/basenji_tutorial_data/model_best.tf.index', shell=True)\n",
    "#     subprocess.call('curl -o models/heart/model_best.tf.meta https://storage.googleapis.com/basenji_tutorial_data/model_best.tf.meta', shell=True)\n",
    "#     subprocess.call('curl -o models/heart/model_best.tf.data-00000-of-00001 https://storage.googleapis.com/basenji_tutorial_data/model_best.tf.data-00000-of-00001', shell=True)\n",
    "    \n",
    "    \n",
    "# if not os.path.isdir('models/heart'):\n",
    "#     os.mkdir('models/heart')\n",
    "# if not os.path.isfile('models/heart/model_best.h5'):\n",
    "#     subprocess.call('curl -o models/heart/model_best.h5 https://storage.googleapis.com/basenji_barnyard/model_human.h5', shell=True)\n",
    "#     subprocess.call('curl -o models/heart/model_best.tf https://storage.googleapis.com/basenji_barnyard/model_human.tf', shell=True)\n",
    "\n",
    "if not os.path.isdir('models/lcl'):\n",
    "    os.mkdir('models/lcl')\n",
    "if not os.path.isfile('models/lcl/model_human.tf.meta'):\n",
    "#     subprocess.call('curl -o models/lcl/model_human.h5 https://storage.googleapis.com/basenji_barnyard/model_human.h5', shell=True)\n",
    "    subprocess.call('curl -o models/lcl/model_human.tf.index https://storage.googleapis.com/basenji_barnyard/tf1/model_human.tf.index', shell=True)\n",
    "    subprocess.call('curl -o models/lcl/model_human.tf.meta https://storage.googleapis.com/basenji_barnyard/tf1/model_human.tf.meta', shell=True)\n",
    "    subprocess.call('curl -o models/lcl/model_human.tf.data-00000-of-00001 https://storage.googleapis.com/basenji_barnyard/tf1/model_human.tf.data-00000-of-00001', shell=True)\n",
    "    "
   ]
  },
  {
   "cell_type": "code",
   "execution_count": 4,
   "metadata": {},
   "outputs": [],
   "source": [
    "lines = [['index','identifier','file','clip','sum_stat','description']]\n",
    "# lines.append(['0', 'CNhs11760', 'data/CNhs11760.bw', '384', 'sum', 'aorta'])\n",
    "# lines.append(['1', 'CNhs12843', 'data/CNhs12843.bw', '384', 'sum', 'artery'])\n",
    "# lines.append(['2', 'CNhs12856', 'data/CNhs12856.bw', '384', 'sum', 'pulmonic_valve'])\n",
    "lines.append(['0', 'ENCFF093VXI', 'data/ENCFF093VXI.w5', '32', 'sum', 'DNASE:GM12878'])\n",
    "\n",
    "samples_out = open('data/lcl_wigs.txt', 'w')\n",
    "for line in lines:\n",
    "    print('\\t'.join(line), file=samples_out)\n",
    "samples_out.close()"
   ]
  },
  {
   "cell_type": "markdown",
   "metadata": {},
   "source": [
    "## SNP activity difference compute"
   ]
  },
  {
   "cell_type": "markdown",
   "metadata": {},
   "source": [
    "Analyzing noncoding variation associated with disease is a major application of Basenji. I now offer several tools to enable that analysis. If you have a small set of variants and know what datasets are most relevant, [basenji_sat_vcf.py](https://github.com/calico/basenji/blob/master/bin/basenji_sat_vcf.py) lets you perform a saturation mutagenesis of the variant and surrounding region to see the relevant nearby motifs.\n",
    "\n",
    "If you want scores measuring the influence of those variants on all datasets,\n",
    " * [basenji_sad.py](https://github.com/calico/basenji/blob/master/bin/basenji_sad.py) computes my SNP activity difference (SAD) score--the predicted change in aligned fragments to the region.\n",
    " * [basenji_sed.py](https://github.com/calico/basenji/blob/master/bin/basenji_sed.py) computes my SNP expression difference (SED) score--the predicted change in aligned fragments to gene TSS's.\n",
    "\n",
    "Here, I'll demonstrate those two programs. You'll need\n",
    " * Trained model\n",
    " * Input file (FASTA or HDF5 with test_in/test_out)"
   ]
  },
  {
   "cell_type": "markdown",
   "metadata": {},
   "source": [
    "First, you can either train your own model in the [Train/test tutorial](https://github.com/calico/basenji/blob/master/tutorials/train_test.ipynb) or use one that I pre-trained from the models subdirectory."
   ]
  },
  {
   "cell_type": "markdown",
   "metadata": {},
   "source": [
    "As an example, we'll study a prostate cancer susceptibility allele of rs339331 that increases RFX6 expression by modulating HOXB13 chromatin binding (http://www.nature.com/ng/journal/v46/n2/full/ng.2862.html).\n",
    "\n",
    "First, we'll use [basenji_sad.py](https://github.com/calico/basenji/blob/master/bin/basenji_sad.py) to predict across the region for each allele and compute stats about the mean and max differences.\n",
    "\n",
    "The most relevant options are:\n",
    "\n",
    "| Option/Argument | Value | Note |\n",
    "|:---|:---|:---|\n",
    "| --cpu | True | Run on CPU (and avoid a GPU prefetch op.) |\n",
    "| -f | data/hg19.ml.fa | Genome fasta. |\n",
    "| -g | data/human.hg19.genome | Genome assembly chromosome length to bound gene sequences. |\n",
    "| --h5 | True | Write output to HDF5. |\n",
    "| -o | rfx6_sad | Outplot plot directory. |\n",
    "| --rc | True | Ensemble predictions for forward and reverse complement sequences. |\n",
    "| --shift | 1,0,-1 | Ensemble predictions for sequences shifted by 1, 0, and -1 bp. |\n",
    "| -t | data/heart_wigs.txt | Target labels. |\n",
    "| params_file | models/params_small.txt | Table of parameters to setup the model architecture and optimization parameters. |\n",
    "| model_file | models/heart/model_best.tf | Trained saved model prefix. |\n",
    "| vcf_file | data/rs339331.vcf | VCF file specifying variants to score. |"
   ]
  },
  {
   "cell_type": "code",
   "execution_count": 7,
   "metadata": {
    "collapsed": true
   },
   "outputs": [
    {
     "name": "stdout",
     "output_type": "stream",
     "text": [
      "{'seq_length': 131072, 'target_pool': 128, 'target_length': 1024, 'num_genomes': 2, 'num_targets': [5313, 1643], 'batch_size': 4, 'batch_buffer': 8192, 'nonlinearity': 'gelu', 'link': 'softplus', 'loss': 'poisson', 'optimizer': 'sgd', 'learning_rate': 0.15, 'momentum': 0.99, 'grad_clip': 2, 'learning_decay_steps': 3000000, 'learning_decay_rate': 0.5, 'batch_norm_momentum': 0.9, 'cnn_l2_scale': 1e-09, 'final_l1_scale': 1e-09, 'architecture': 'dilated_residual', 'conv_dna_filters': 288, 'conv_dna_filter_size': 15, 'conv_dna_pool': 2, 'conv_dna_dropout': 0, 'conv_reduce_pool': 2, 'conv_reduce_dropout': 0, 'conv_dilate_filters': 384, 'conv_dilate_rate_mult': 1.5, 'conv_dilate_rate_max': 96, 'conv_dilate_dropout': 0.3, 'conv_final_filters': 1536, 'conv_final_dropout': 0.05, 'conv_reduce_filter_size': 5, 'conv_reduce_filters_mult': 1.1776}\n",
      "WARNING:tensorflow:From /data/gpfs/projects/punim0614/andy/basenji21/basenji/bin/basenji_sad.py:189: The name tf.Dimension is deprecated. Please use tf.compat.v1.Dimension instead.\n",
      "\n",
      "WARNING:tensorflow:From /data/gpfs/projects/punim0614/andy/basenji21/basenji/bin/basenji_sad.py:200: DatasetV1.make_one_shot_iterator (from tensorflow.python.data.ops.dataset_ops) is deprecated and will be removed in a future version.\n",
      "Instructions for updating:\n",
      "Use `for ... in dataset:` to iterate over a dataset. If using `tf.estimator`, return the `Dataset` object directly from your input function. As a last resort, you can use `tf.compat.v1.data.make_one_shot_iterator(dataset)`.\n",
      "WARNING:tensorflow:From /data/gpfs/projects/punim0614/andy/basenji21/basenji/basenji/seqnn.py:37: The name tf.train.get_or_create_global_step is deprecated. Please use tf.compat.v1.train.get_or_create_global_step instead.\n",
      "\n",
      "WARNING:tensorflow:\n",
      "The TensorFlow contrib module will not be included in TensorFlow 2.0.\n",
      "For more information, please see:\n",
      "  * https://github.com/tensorflow/community/blob/master/rfcs/20180907-contrib-sunset.md\n",
      "  * https://github.com/tensorflow/addons\n",
      "  * https://github.com/tensorflow/io (for I/O related ops)\n",
      "If you depend on functionality not listed there, please file an issue.\n",
      "\n",
      "WARNING:tensorflow:From /data/gpfs/projects/punim0614/andy/basenji21/basenji/basenji/params.py:216: The name tf.logging.info is deprecated. Please use tf.compat.v1.logging.info instead.\n",
      "\n",
      "WARNING:tensorflow:From /data/gpfs/projects/punim0614/andy/basenji21/basenji/basenji/seqnn.py:154: The name tf.placeholder is deprecated. Please use tf.compat.v1.placeholder instead.\n",
      "\n",
      "Targets pooled by 128 to length 1024\n",
      "WARNING:tensorflow:From /data/gpfs/projects/punim0614/andy/basenji21/basenji/basenji/seqnn.py:255: The name tf.variable_scope is deprecated. Please use tf.compat.v1.variable_scope instead.\n",
      "\n",
      "WARNING:tensorflow:From /data/gpfs/projects/punim0614/andy/basenji21/basenji/basenji/seqnn.py:255: The name tf.AUTO_REUSE is deprecated. Please use tf.compat.v1.AUTO_REUSE instead.\n",
      "\n",
      "WARNING:tensorflow:From /data/gpfs/projects/punim0614/andy/basenji21/basenji/basenji/layers.py:53: conv1d (from tensorflow.python.layers.convolutional) is deprecated and will be removed in a future version.\n",
      "Instructions for updating:\n",
      "Use `tf.keras.layers.Conv1D` instead.\n",
      "WARNING:tensorflow:From /usr/local/easybuild/software/Tensorflow/1.15.0-GCC-6.2.0-Python-3.7.1-GPU/lib/python3.7/site-packages/tensorflow_core/python/layers/convolutional.py:218: Layer.apply (from tensorflow.python.keras.engine.base_layer) is deprecated and will be removed in a future version.\n",
      "Instructions for updating:\n",
      "Please use `layer.__call__` method instead.\n",
      "WARNING:tensorflow:From /data/gpfs/projects/punim0614/andy/basenji21/basenji/basenji/layers.py:74: batch_normalization (from tensorflow.python.layers.normalization) is deprecated and will be removed in a future version.\n",
      "Instructions for updating:\n",
      "Use keras.layers.BatchNormalization instead.  In particular, `tf.control_dependencies(tf.GraphKeys.UPDATE_OPS)` should not be used (consult the `tf.keras.layers.batch_normalization` documentation).\n",
      "WARNING:tensorflow:From /data/gpfs/projects/punim0614/andy/basenji21/basenji/basenji/layers.py:103: max_pooling1d (from tensorflow.python.layers.pooling) is deprecated and will be removed in a future version.\n",
      "Instructions for updating:\n",
      "Use keras.layers.MaxPooling1D instead.\n",
      "WARNING:tensorflow:From /data/gpfs/projects/punim0614/andy/basenji21/basenji/basenji/layers.py:82: dropout (from tensorflow.python.layers.core) is deprecated and will be removed in a future version.\n",
      "Instructions for updating:\n",
      "Use keras.layers.dropout instead.\n",
      "WARNING:tensorflow:From /data/gpfs/projects/punim0614/andy/basenji21/basenji/basenji/seqnn.py:293: dense (from tensorflow.python.layers.core) is deprecated and will be removed in a future version.\n",
      "Instructions for updating:\n",
      "Use keras.layers.Dense instead.\n",
      "Convolution w/ 6956 1536x1 filters to final targets\n",
      "WARNING:tensorflow:From /data/gpfs/projects/punim0614/andy/basenji21/basenji/basenji/seqnn.py:299: The name tf.get_collection is deprecated. Please use tf.compat.v1.get_collection instead.\n",
      "\n",
      "WARNING:tensorflow:From /data/gpfs/projects/punim0614/andy/basenji21/basenji/basenji/seqnn.py:299: The name tf.GraphKeys is deprecated. Please use tf.compat.v1.GraphKeys instead.\n",
      "\n",
      "Model building time 3.506674\n",
      "WARNING:tensorflow:From /data/gpfs/projects/punim0614/andy/basenji21/basenji/bin/basenji_sad.py:264: The name tf.train.Saver is deprecated. Please use tf.compat.v1.train.Saver instead.\n",
      "\n",
      "WARNING:tensorflow:From /data/gpfs/projects/punim0614/andy/basenji21/basenji/bin/basenji_sad.py:265: The name tf.Session is deprecated. Please use tf.compat.v1.Session instead.\n",
      "\n",
      "2021-03-23 14:13:12.164770: W tensorflow/stream_executor/platform/default/dso_loader.cc:55] Could not load dynamic library 'libcuda.so.1'; dlerror: libcuda.so.1: cannot open shared object file: No such file or directory; LD_LIBRARY_PATH: /usr/local/easybuild/software/cuDNN/7.5.0.56-GCC-6.2.0/lib64:/usr/local/easybuild/software/CUDA/10.0.130/nvvm/lib64:/usr/local/easybuild/software/CUDA/10.0.130/extras/CUPTI/lib64:/usr/local/easybuild/software/CUDA/10.0.130/lib64:/usr/local/easybuild/software/Python/3.7.1-GCC-6.2.0/lib:/usr/local/easybuild/software/zlib/1.2.11-GCC-6.2.0/lib:/usr/local/easybuild/software/PROJ/6.0.0-GCC-6.2.0/lib:/usr/local/easybuild/software/libffi/3.2.1-GCC-6.2.0/lib64:/usr/local/easybuild/software/libffi/3.2.1-GCC-6.2.0/lib:/usr/local/easybuild/software/XZ/5.2.2-GCC-6.2.0/lib:/usr/local/easybuild/software/GMP/6.1.1-GCC-6.2.0/lib:/usr/local/easybuild/software/Tk/8.6.5-GCC-6.2.0/lib:/usr/local/easybuild/software/SQLite/3.25.3-GCC-6.2.0/lib:/usr/local/easybuild/software/Tcl/8.6.5-GCC-6.2.0/lib:/usr/local/easybuild/software/libreadline/7.0-GCC-6.2.0/lib:/usr/local/easybuild/software/ncurses/6.1-GCC-6.2.0/lib:/usr/local/easybuild/software/bzip2/1.0.6-GCC-6.2.0/lib:/usr/local/easybuild/software/GCC/6.2.0/lib/gcc/x86_64-pc-linux-gnu/6.2.0:/usr/local/easybuild/software/GCC/6.2.0/lib64:/usr/local/easybuild/software/GCC/6.2.0/lib\n",
      "2021-03-23 14:13:12.164819: E tensorflow/stream_executor/cuda/cuda_driver.cc:318] failed call to cuInit: UNKNOWN ERROR (303)\n",
      "2021-03-23 14:13:12.164854: I tensorflow/stream_executor/cuda/cuda_diagnostics.cc:156] kernel driver does not appear to be running on this host (spartan-bm089.hpc.unimelb.edu.au): /proc/driver/nvidia/version does not exist\n",
      "2021-03-23 14:13:12.165419: I tensorflow/core/platform/cpu_feature_guard.cc:142] Your CPU supports instructions that this TensorFlow binary was not compiled to use: AVX2 AVX512F FMA\n",
      "2021-03-23 14:13:12.172948: I tensorflow/core/platform/profile_utils/cpu_utils.cc:94] CPU Frequency: 3100000000 Hz\n",
      "2021-03-23 14:13:12.173202: I tensorflow/compiler/xla/service/service.cc:168] XLA service 0x660e0a0 initialized for platform Host (this does not guarantee that XLA will be used). Devices:\n",
      "2021-03-23 14:13:12.173215: I tensorflow/compiler/xla/service/service.cc:176]   StreamExecutor device (0): Host, Default Version\n",
      "WARNING: rs2236055 - alt (as opposed to ref) allele matches reference genome; changing reference genome to match.\n",
      "Waiting for threads to finish.\n"
     ]
    }
   ],
   "source": [
    "! basenji_sad.py --cpu -f data/hg19.ml.fa -o output/rfx6_sad --rc --shift \"1,0,-1\" -t data/lcl_wigs.txt models/params.txt models/lcl/model_human.tf data/dsQTL_small.eval.vcf\n",
    "\n",
    "# ! ../bin/basenji_sad.py -f data/hg19.ml.fa -o output/rfx6_sad --rc --shift \"1,0,-1\" -t data/heart_wigs.txt models/params_small.txt models/heart/model_best.tf data/rs339331.vcf\n",
    "\n"
   ]
  },
  {
   "cell_type": "markdown",
   "metadata": {},
   "source": [
    "## SNP activity difference output"
   ]
  },
  {
   "cell_type": "markdown",
   "metadata": {},
   "source": [
    "The output HDF5 stores the SNP and target information and predicted scores."
   ]
  },
  {
   "cell_type": "code",
   "execution_count": 9,
   "metadata": {},
   "outputs": [],
   "source": [
    "sad_h5 = h5py.File('output/rfx6_sad/sad.h5', 'r')\n",
    "# list(sad_h5.keys())"
   ]
  },
  {
   "cell_type": "code",
   "execution_count": 10,
   "metadata": {},
   "outputs": [
    {
     "data": {
      "text/plain": [
       "[b'DNASE:GM12878']"
      ]
     },
     "execution_count": 10,
     "metadata": {},
     "output_type": "execute_result"
    }
   ],
   "source": [
    "list(sad_h5['target_labels'])"
   ]
  },
  {
   "cell_type": "code",
   "execution_count": 11,
   "metadata": {},
   "outputs": [
    {
     "name": "stdout",
     "output_type": "stream",
     "text": [
      "snp [b'rs141671872' b'rs7417106' b'rs6603785' b'rs112571439' b'rs9661285'\n",
      " b'rs55665824' b'rs11121820' b'rs2236055' b'rs9919124' b'rs2816057'\n",
      " b'rs74056743' b'rs79931859' b'rs1994859' b'rs4147103' b'rs12079905'\n",
      " b'rs34958581' b'rs3768324' b'rs12118033' b'rs3122128' b'rs56265163'\n",
      " b'rs662145' b'rs10888907' b'rs593257' b'rs6701583' b'rs11207905'\n",
      " b'rs11589629' b'rs599134' b'rs17032139' b'rs640195' b'rs2798892'\n",
      " b'rs1409367' b'rs999418' b'rs12057448' b'rs6656494' b'rs75500098'\n",
      " b'rs60205880' b'rs12064771' b'rs10911363' b'rs789185' b'rs4511180'\n",
      " b'rs11119901' b'rs1152837' b'rs75714319' b'rs12741252' b'rs3738398'\n",
      " b'rs4658633' b'rs4073056' b'rs59868117' b'rs10794743' b'rs34174118'\n",
      " b'rs11819695' b'rs10905307' b'rs141802172' b'rs17152034' b'rs10796127'\n",
      " b'rs2793109' b'rs2377981' b'rs59082403' b'rs12269414' b'rs10823321'\n",
      " b'rs11000015' b'rs10824083' b'rs10824084' b'rs77570953' b'rs4934157'\n",
      " b'rs10887562' b'rs7905184' b'rs7477274' b'rs59063780' b'rs7094325'\n",
      " b'rs12265653' b'rs73351021' b'rs705181' b'rs28654492' b'rs11607954'\n",
      " b'rs2568026' b'rs1544861' b'rs1395319' b'rs6484704' b'rs76873282'\n",
      " b'rs12793139' b'rs72915001' b'rs1061093' b'rs116758591' b'rs553618'\n",
      " b'rs554122' b'rs10791824' b'rs57804123' b'rs3814735' b'rs185482554'\n",
      " b'rs7122786' b'rs661101' b'rs3781907' b'rs2372897' b'rs4753126'\n",
      " b'rs57211591' b'rs10790282' b'rs948027' b'rs534765']\n",
      "chr [b'chr1' b'chr1' b'chr1' b'chr1' b'chr1' b'chr1' b'chr1' b'chr1' b'chr1'\n",
      " b'chr1' b'chr1' b'chr1' b'chr1' b'chr1' b'chr1' b'chr1' b'chr1' b'chr1'\n",
      " b'chr1' b'chr1' b'chr1' b'chr1' b'chr1' b'chr1' b'chr1' b'chr1' b'chr1'\n",
      " b'chr1' b'chr1' b'chr1' b'chr1' b'chr1' b'chr1' b'chr1' b'chr1' b'chr1'\n",
      " b'chr1' b'chr1' b'chr1' b'chr1' b'chr1' b'chr1' b'chr1' b'chr1' b'chr1'\n",
      " b'chr1' b'chr1' b'chr1' b'chr10' b'chr10' b'chr10' b'chr10' b'chr10'\n",
      " b'chr10' b'chr10' b'chr10' b'chr10' b'chr10' b'chr10' b'chr10' b'chr10'\n",
      " b'chr10' b'chr10' b'chr10' b'chr10' b'chr10' b'chr10' b'chr10' b'chr10'\n",
      " b'chr10' b'chr10' b'chr10' b'chr10' b'chr10' b'chr11' b'chr11' b'chr11'\n",
      " b'chr11' b'chr11' b'chr11' b'chr11' b'chr11' b'chr11' b'chr11' b'chr11'\n",
      " b'chr11' b'chr11' b'chr11' b'chr11' b'chr11' b'chr11' b'chr11' b'chr11'\n",
      " b'chr11' b'chr11' b'chr11' b'chr11' b'chr11' b'chr11']\n",
      "pos [   856583    911595   1186502   1227412   1590575   3369847  11809402\n",
      "  12042261  15711053  18902257  19397741  25876340  29497820  31255905\n",
      "  32059773  32936807  39492462  39558211  41981844  54755742  55529828\n",
      "  55723817  58621708  60183913  62596969  89551669 111740345 114576022\n",
      " 120217650 144932220 153463451 153600124 154781591 154839799 157069561\n",
      " 159791464 162122448 183549757 183554281 202149439 207125946 208171317\n",
      " 208332741 211822542 231762340 244517238 246979340 247242280   1411286\n",
      "   1452537   5887279   5894500  12466797  12677304  13826242  31379846\n",
      "  50350183  54506112  65632274  70989270  73571883  75911342  75911415\n",
      "  80197361  87898998  87984457  88091850  98549577  99313445 104429746\n",
      " 105803156 111832836 125312768 134639531   1714688   8932733  10679441\n",
      "  18548183  34334905  44797140  57413943  60598449  62334908  63706085\n",
      "  64503179  65033874  65559266  66079787  66313693  67573332  69029210\n",
      "  70073264  73716469  77742826  93862020 117678382 118973133 120644424\n",
      " 131898718]\n",
      "ref [b'G' b'A' b'A' b'G' b'G' b'A' b'T' b'G' b'T' b'G' b'A' b'G' b'T' b'C'\n",
      " b'C' b'C' b'C' b'G' b'T' b'A' b'C' b'G' b'C' b'C' b'C' b'G' b'C' b'G'\n",
      " b'A' b'G' b'T' b'C' b'G' b'G' b'C' b'G' b'C' b'G' b'G' b'G' b'G' b'C'\n",
      " b'C' b'G' b'G' b'A' b'G' b'C' b'C' b'G' b'C' b'G' b'G' b'T' b'G' b'T'\n",
      " b'T' b'C' b'G' b'G' b'C' b'C' b'T' b'G' b'C' b'C' b'G' b'T' b'C' b'G'\n",
      " b'G' b'T' b'G' b'G' b'C' b'G' b'C' b'T' b'T' b'C' b'C' b'C' b'G' b'T'\n",
      " b'G' b'T' b'A' b'G' b'A' b'C' b'A' b'C' b'A' b'A' b'T' b'G' b'A' b'T'\n",
      " b'A']\n"
     ]
    }
   ],
   "source": [
    "for snp_key in ['snp', 'chr', 'pos', 'ref']:\n",
    "    print(snp_key, sad_h5[snp_key][:])"
   ]
  },
  {
   "cell_type": "code",
   "execution_count": 12,
   "metadata": {
    "collapsed": true
   },
   "outputs": [
    {
     "name": "stdout",
     "output_type": "stream",
     "text": [
      " 0 856583 b'chr1'  0.6777  b'ENCFF093VXI'  b'DNASE:GM12878'\n",
      " 0 911595 b'chr1' -1.6309  b'ENCFF093VXI'  b'DNASE:GM12878'\n",
      " 0 1186502 b'chr1' -0.1852  b'ENCFF093VXI'  b'DNASE:GM12878'\n",
      " 0 1227412 b'chr1' -8.7266  b'ENCFF093VXI'  b'DNASE:GM12878'\n",
      " 0 1590575 b'chr1' -7.5000  b'ENCFF093VXI'  b'DNASE:GM12878'\n",
      " 0 3369847 b'chr1' -1.5635  b'ENCFF093VXI'  b'DNASE:GM12878'\n",
      " 0 11809402 b'chr1' -0.8521  b'ENCFF093VXI'  b'DNASE:GM12878'\n",
      " 0 12042261 b'chr1'  0.0206  b'ENCFF093VXI'  b'DNASE:GM12878'\n",
      " 0 15711053 b'chr1' -0.8457  b'ENCFF093VXI'  b'DNASE:GM12878'\n",
      " 0 18902257 b'chr1'  2.0449  b'ENCFF093VXI'  b'DNASE:GM12878'\n",
      " 0 19397741 b'chr1'  0.2798  b'ENCFF093VXI'  b'DNASE:GM12878'\n",
      " 0 25876340 b'chr1' -0.0476  b'ENCFF093VXI'  b'DNASE:GM12878'\n",
      " 0 29497820 b'chr1'  0.1530  b'ENCFF093VXI'  b'DNASE:GM12878'\n",
      " 0 31255905 b'chr1' -1.7344  b'ENCFF093VXI'  b'DNASE:GM12878'\n",
      " 0 32059773 b'chr1' -3.6562  b'ENCFF093VXI'  b'DNASE:GM12878'\n",
      " 0 32936807 b'chr1'  1.7119  b'ENCFF093VXI'  b'DNASE:GM12878'\n",
      " 0 39492462 b'chr1' -0.8345  b'ENCFF093VXI'  b'DNASE:GM12878'\n",
      " 0 39558211 b'chr1' -1.8555  b'ENCFF093VXI'  b'DNASE:GM12878'\n",
      " 0 41981844 b'chr1' -1.7471  b'ENCFF093VXI'  b'DNASE:GM12878'\n",
      " 0 54755742 b'chr1'  0.2834  b'ENCFF093VXI'  b'DNASE:GM12878'\n",
      " 0 55529828 b'chr1' -0.1804  b'ENCFF093VXI'  b'DNASE:GM12878'\n",
      " 0 55723817 b'chr1' -0.0575  b'ENCFF093VXI'  b'DNASE:GM12878'\n",
      " 0 58621708 b'chr1' -0.1503  b'ENCFF093VXI'  b'DNASE:GM12878'\n",
      " 0 60183913 b'chr1'  0.5244  b'ENCFF093VXI'  b'DNASE:GM12878'\n",
      " 0 62596969 b'chr1' -1.0615  b'ENCFF093VXI'  b'DNASE:GM12878'\n",
      " 0 89551669 b'chr1' -1.3037  b'ENCFF093VXI'  b'DNASE:GM12878'\n",
      " 0 111740345 b'chr1'  1.1152  b'ENCFF093VXI'  b'DNASE:GM12878'\n",
      " 0 114576022 b'chr1'  0.0075  b'ENCFF093VXI'  b'DNASE:GM12878'\n",
      " 0 120217650 b'chr1' -0.0558  b'ENCFF093VXI'  b'DNASE:GM12878'\n",
      " 0 144932220 b'chr1' -0.4636  b'ENCFF093VXI'  b'DNASE:GM12878'\n",
      " 0 153463451 b'chr1' -0.3159  b'ENCFF093VXI'  b'DNASE:GM12878'\n",
      " 0 153600124 b'chr1' -1.2520  b'ENCFF093VXI'  b'DNASE:GM12878'\n",
      " 0 154781591 b'chr1'  0.0389  b'ENCFF093VXI'  b'DNASE:GM12878'\n",
      " 0 154839799 b'chr1'  1.4258  b'ENCFF093VXI'  b'DNASE:GM12878'\n",
      " 0 157069561 b'chr1'  0.0407  b'ENCFF093VXI'  b'DNASE:GM12878'\n",
      " 0 159791464 b'chr1'  1.7891  b'ENCFF093VXI'  b'DNASE:GM12878'\n",
      " 0 162122448 b'chr1'  0.0000  b'ENCFF093VXI'  b'DNASE:GM12878'\n",
      " 0 183549757 b'chr1' -0.5405  b'ENCFF093VXI'  b'DNASE:GM12878'\n",
      " 0 183554281 b'chr1' -0.0472  b'ENCFF093VXI'  b'DNASE:GM12878'\n",
      " 0 202149439 b'chr1' -0.0482  b'ENCFF093VXI'  b'DNASE:GM12878'\n",
      " 0 207125946 b'chr1' -0.0363  b'ENCFF093VXI'  b'DNASE:GM12878'\n",
      " 0 208171317 b'chr1' -1.9590  b'ENCFF093VXI'  b'DNASE:GM12878'\n",
      " 0 208332741 b'chr1'  0.4556  b'ENCFF093VXI'  b'DNASE:GM12878'\n",
      " 0 211822542 b'chr1' -0.1733  b'ENCFF093VXI'  b'DNASE:GM12878'\n",
      " 0 231762340 b'chr1' -0.5879  b'ENCFF093VXI'  b'DNASE:GM12878'\n",
      " 0 244517238 b'chr1'  0.0473  b'ENCFF093VXI'  b'DNASE:GM12878'\n",
      " 0 246979340 b'chr1'  0.0386  b'ENCFF093VXI'  b'DNASE:GM12878'\n",
      " 0 247242280 b'chr1'  2.9551  b'ENCFF093VXI'  b'DNASE:GM12878'\n",
      " 0 1411286 b'chr10' -0.0673  b'ENCFF093VXI'  b'DNASE:GM12878'\n",
      " 0 1452537 b'chr10'  0.0628  b'ENCFF093VXI'  b'DNASE:GM12878'\n",
      " 0 5887279 b'chr10' -0.0195  b'ENCFF093VXI'  b'DNASE:GM12878'\n",
      " 0 5894500 b'chr10'  0.1859  b'ENCFF093VXI'  b'DNASE:GM12878'\n",
      " 0 12466797 b'chr10' -0.1901  b'ENCFF093VXI'  b'DNASE:GM12878'\n",
      " 0 12677304 b'chr10'  0.0332  b'ENCFF093VXI'  b'DNASE:GM12878'\n",
      " 0 13826242 b'chr10' -0.1469  b'ENCFF093VXI'  b'DNASE:GM12878'\n",
      " 0 31379846 b'chr10'  0.5508  b'ENCFF093VXI'  b'DNASE:GM12878'\n",
      " 0 50350183 b'chr10'  0.0047  b'ENCFF093VXI'  b'DNASE:GM12878'\n",
      " 0 54506112 b'chr10'  0.0282  b'ENCFF093VXI'  b'DNASE:GM12878'\n",
      " 0 65632274 b'chr10' -2.9883  b'ENCFF093VXI'  b'DNASE:GM12878'\n",
      " 0 70989270 b'chr10' -0.1273  b'ENCFF093VXI'  b'DNASE:GM12878'\n",
      " 0 73571883 b'chr10' -3.9609  b'ENCFF093VXI'  b'DNASE:GM12878'\n",
      " 0 75911342 b'chr10'  0.7402  b'ENCFF093VXI'  b'DNASE:GM12878'\n",
      " 0 75911415 b'chr10'  0.2438  b'ENCFF093VXI'  b'DNASE:GM12878'\n",
      " 0 80197361 b'chr10'  1.1260  b'ENCFF093VXI'  b'DNASE:GM12878'\n",
      " 0 87898998 b'chr10'  0.4995  b'ENCFF093VXI'  b'DNASE:GM12878'\n",
      " 0 87984457 b'chr10'  0.4006  b'ENCFF093VXI'  b'DNASE:GM12878'\n",
      " 0 88091850 b'chr10' -0.0347  b'ENCFF093VXI'  b'DNASE:GM12878'\n",
      " 0 98549577 b'chr10'  2.4297  b'ENCFF093VXI'  b'DNASE:GM12878'\n",
      " 0 99313445 b'chr10' -2.9941  b'ENCFF093VXI'  b'DNASE:GM12878'\n",
      " 0 104429746 b'chr10' -0.5576  b'ENCFF093VXI'  b'DNASE:GM12878'\n",
      " 0 105803156 b'chr10'  0.0122  b'ENCFF093VXI'  b'DNASE:GM12878'\n",
      " 0 111832836 b'chr10'  0.0357  b'ENCFF093VXI'  b'DNASE:GM12878'\n",
      " 0 125312768 b'chr10'  0.0778  b'ENCFF093VXI'  b'DNASE:GM12878'\n",
      " 0 134639531 b'chr10' -0.0795  b'ENCFF093VXI'  b'DNASE:GM12878'\n",
      " 0 1714688 b'chr11' -0.3088  b'ENCFF093VXI'  b'DNASE:GM12878'\n",
      " 0 8932733 b'chr11'  0.0353  b'ENCFF093VXI'  b'DNASE:GM12878'\n",
      " 0 10679441 b'chr11'  0.1471  b'ENCFF093VXI'  b'DNASE:GM12878'\n",
      " 0 18548183 b'chr11' -1.8135  b'ENCFF093VXI'  b'DNASE:GM12878'\n",
      " 0 34334905 b'chr11'  0.1469  b'ENCFF093VXI'  b'DNASE:GM12878'\n",
      " 0 44797140 b'chr11' -4.1172  b'ENCFF093VXI'  b'DNASE:GM12878'\n",
      " 0 57413943 b'chr11' -0.0724  b'ENCFF093VXI'  b'DNASE:GM12878'\n",
      " 0 60598449 b'chr11'  0.2386  b'ENCFF093VXI'  b'DNASE:GM12878'\n",
      " 0 62334908 b'chr11' -0.2993  b'ENCFF093VXI'  b'DNASE:GM12878'\n",
      " 0 63706085 b'chr11' -1.2480  b'ENCFF093VXI'  b'DNASE:GM12878'\n",
      " 0 64503179 b'chr11' -0.0269  b'ENCFF093VXI'  b'DNASE:GM12878'\n",
      " 0 65033874 b'chr11'  0.8574  b'ENCFF093VXI'  b'DNASE:GM12878'\n",
      " 0 65559266 b'chr11' -0.3792  b'ENCFF093VXI'  b'DNASE:GM12878'\n",
      " 0 66079787 b'chr11'  0.5640  b'ENCFF093VXI'  b'DNASE:GM12878'\n",
      " 0 66313693 b'chr11'  2.3691  b'ENCFF093VXI'  b'DNASE:GM12878'\n",
      " 0 67573332 b'chr11'  2.9902  b'ENCFF093VXI'  b'DNASE:GM12878'\n",
      " 0 69029210 b'chr11'  0.0079  b'ENCFF093VXI'  b'DNASE:GM12878'\n",
      " 0 70073264 b'chr11' -1.0068  b'ENCFF093VXI'  b'DNASE:GM12878'\n",
      " 0 73716469 b'chr11' -0.1377  b'ENCFF093VXI'  b'DNASE:GM12878'\n",
      " 0 77742826 b'chr11'  0.0094  b'ENCFF093VXI'  b'DNASE:GM12878'\n",
      " 0 93862020 b'chr11' -0.8252  b'ENCFF093VXI'  b'DNASE:GM12878'\n",
      " 0 117678382 b'chr11' -2.7676  b'ENCFF093VXI'  b'DNASE:GM12878'\n",
      " 0 118973133 b'chr11'  0.1840  b'ENCFF093VXI'  b'DNASE:GM12878'\n",
      " 0 120644424 b'chr11' -0.1024  b'ENCFF093VXI'  b'DNASE:GM12878'\n",
      " 0 131898718 b'chr11' -0.0959  b'ENCFF093VXI'  b'DNASE:GM12878'\n"
     ]
    },
    {
     "ename": "ValueError",
     "evalue": "Index (99) out of range (0-98)",
     "output_type": "error",
     "traceback": [
      "\u001b[0;31m---------------------------------------------------------------------------\u001b[0m",
      "\u001b[0;31mValueError\u001b[0m                                Traceback (most recent call last)",
      "\u001b[0;32m<ipython-input-12-9f98e99fa9ef>\u001b[0m in \u001b[0;36m<module>\u001b[0;34m\u001b[0m\n\u001b[1;32m      1\u001b[0m \u001b[0;32mfor\u001b[0m \u001b[0mti\u001b[0m \u001b[0;32min\u001b[0m \u001b[0mrange\u001b[0m\u001b[0;34m(\u001b[0m\u001b[0;36m1\u001b[0m\u001b[0;34m)\u001b[0m\u001b[0;34m:\u001b[0m\u001b[0;34m\u001b[0m\u001b[0;34m\u001b[0m\u001b[0m\n\u001b[1;32m      2\u001b[0m     \u001b[0;32mfor\u001b[0m \u001b[0mj\u001b[0m \u001b[0;32min\u001b[0m \u001b[0mrange\u001b[0m\u001b[0;34m(\u001b[0m\u001b[0;36m100\u001b[0m\u001b[0;34m)\u001b[0m\u001b[0;34m:\u001b[0m\u001b[0;34m\u001b[0m\u001b[0;34m\u001b[0m\u001b[0m\n\u001b[0;32m----> 3\u001b[0;31m         \u001b[0mcols\u001b[0m \u001b[0;34m=\u001b[0m \u001b[0;34m(\u001b[0m\u001b[0mti\u001b[0m\u001b[0;34m,\u001b[0m \u001b[0msad_h5\u001b[0m\u001b[0;34m[\u001b[0m\u001b[0;34m'pos'\u001b[0m\u001b[0;34m]\u001b[0m\u001b[0;34m[\u001b[0m\u001b[0mj\u001b[0m\u001b[0;34m]\u001b[0m\u001b[0;34m,\u001b[0m \u001b[0msad_h5\u001b[0m\u001b[0;34m[\u001b[0m\u001b[0;34m'chr'\u001b[0m\u001b[0;34m]\u001b[0m\u001b[0;34m[\u001b[0m\u001b[0mj\u001b[0m\u001b[0;34m]\u001b[0m\u001b[0;34m,\u001b[0m \u001b[0msad_h5\u001b[0m\u001b[0;34m[\u001b[0m\u001b[0;34m'SAD'\u001b[0m\u001b[0;34m]\u001b[0m\u001b[0;34m[\u001b[0m\u001b[0mj\u001b[0m\u001b[0;34m,\u001b[0m\u001b[0mti\u001b[0m\u001b[0;34m]\u001b[0m\u001b[0;34m,\u001b[0m \u001b[0msad_h5\u001b[0m\u001b[0;34m[\u001b[0m\u001b[0;34m'target_ids'\u001b[0m\u001b[0;34m]\u001b[0m\u001b[0;34m[\u001b[0m\u001b[0mti\u001b[0m\u001b[0;34m]\u001b[0m\u001b[0;34m,\u001b[0m \u001b[0msad_h5\u001b[0m\u001b[0;34m[\u001b[0m\u001b[0;34m'target_labels'\u001b[0m\u001b[0;34m]\u001b[0m\u001b[0;34m[\u001b[0m\u001b[0mti\u001b[0m\u001b[0;34m]\u001b[0m\u001b[0;34m)\u001b[0m\u001b[0;34m\u001b[0m\u001b[0;34m\u001b[0m\u001b[0m\n\u001b[0m\u001b[1;32m      4\u001b[0m         \u001b[0mprint\u001b[0m\u001b[0;34m(\u001b[0m\u001b[0;34m'%2d %s %s %7.4f  %12s  %s'\u001b[0m \u001b[0;34m%\u001b[0m \u001b[0mcols\u001b[0m\u001b[0;34m)\u001b[0m\u001b[0;34m\u001b[0m\u001b[0;34m\u001b[0m\u001b[0m\n",
      "\u001b[0;32mh5py/_objects.pyx\u001b[0m in \u001b[0;36mh5py._objects.with_phil.wrapper\u001b[0;34m()\u001b[0m\n",
      "\u001b[0;32mh5py/_objects.pyx\u001b[0m in \u001b[0;36mh5py._objects.with_phil.wrapper\u001b[0;34m()\u001b[0m\n",
      "\u001b[0;32m/usr/local/easybuild/software/Tensorflow/1.15.0-GCC-6.2.0-Python-3.7.1-GPU/lib/python3.7/site-packages/h5py/_hl/dataset.py\u001b[0m in \u001b[0;36m__getitem__\u001b[0;34m(self, args)\u001b[0m\n\u001b[1;32m    551\u001b[0m \u001b[0;34m\u001b[0m\u001b[0m\n\u001b[1;32m    552\u001b[0m         \u001b[0;31m# Perform the dataspace selection.\u001b[0m\u001b[0;34m\u001b[0m\u001b[0;34m\u001b[0m\u001b[0;34m\u001b[0m\u001b[0m\n\u001b[0;32m--> 553\u001b[0;31m         \u001b[0mselection\u001b[0m \u001b[0;34m=\u001b[0m \u001b[0msel\u001b[0m\u001b[0;34m.\u001b[0m\u001b[0mselect\u001b[0m\u001b[0;34m(\u001b[0m\u001b[0mself\u001b[0m\u001b[0;34m.\u001b[0m\u001b[0mshape\u001b[0m\u001b[0;34m,\u001b[0m \u001b[0margs\u001b[0m\u001b[0;34m,\u001b[0m \u001b[0mdsid\u001b[0m\u001b[0;34m=\u001b[0m\u001b[0mself\u001b[0m\u001b[0;34m.\u001b[0m\u001b[0mid\u001b[0m\u001b[0;34m)\u001b[0m\u001b[0;34m\u001b[0m\u001b[0;34m\u001b[0m\u001b[0m\n\u001b[0m\u001b[1;32m    554\u001b[0m \u001b[0;34m\u001b[0m\u001b[0m\n\u001b[1;32m    555\u001b[0m         \u001b[0;32mif\u001b[0m \u001b[0mselection\u001b[0m\u001b[0;34m.\u001b[0m\u001b[0mnselect\u001b[0m \u001b[0;34m==\u001b[0m \u001b[0;36m0\u001b[0m\u001b[0;34m:\u001b[0m\u001b[0;34m\u001b[0m\u001b[0;34m\u001b[0m\u001b[0m\n",
      "\u001b[0;32m/usr/local/easybuild/software/Tensorflow/1.15.0-GCC-6.2.0-Python-3.7.1-GPU/lib/python3.7/site-packages/h5py/_hl/selections.py\u001b[0m in \u001b[0;36mselect\u001b[0;34m(shape, args, dsid)\u001b[0m\n\u001b[1;32m     92\u001b[0m \u001b[0;34m\u001b[0m\u001b[0m\n\u001b[1;32m     93\u001b[0m     \u001b[0msel\u001b[0m \u001b[0;34m=\u001b[0m \u001b[0mSimpleSelection\u001b[0m\u001b[0;34m(\u001b[0m\u001b[0mshape\u001b[0m\u001b[0;34m)\u001b[0m\u001b[0;34m\u001b[0m\u001b[0;34m\u001b[0m\u001b[0m\n\u001b[0;32m---> 94\u001b[0;31m     \u001b[0msel\u001b[0m\u001b[0;34m[\u001b[0m\u001b[0margs\u001b[0m\u001b[0;34m]\u001b[0m\u001b[0;34m\u001b[0m\u001b[0;34m\u001b[0m\u001b[0m\n\u001b[0m\u001b[1;32m     95\u001b[0m     \u001b[0;32mreturn\u001b[0m \u001b[0msel\u001b[0m\u001b[0;34m\u001b[0m\u001b[0;34m\u001b[0m\u001b[0m\n\u001b[1;32m     96\u001b[0m \u001b[0;34m\u001b[0m\u001b[0m\n",
      "\u001b[0;32m/usr/local/easybuild/software/Tensorflow/1.15.0-GCC-6.2.0-Python-3.7.1-GPU/lib/python3.7/site-packages/h5py/_hl/selections.py\u001b[0m in \u001b[0;36m__getitem__\u001b[0;34m(self, args)\u001b[0m\n\u001b[1;32m    259\u001b[0m             \u001b[0;32mreturn\u001b[0m \u001b[0mself\u001b[0m\u001b[0;34m\u001b[0m\u001b[0;34m\u001b[0m\u001b[0m\n\u001b[1;32m    260\u001b[0m \u001b[0;34m\u001b[0m\u001b[0m\n\u001b[0;32m--> 261\u001b[0;31m         \u001b[0mstart\u001b[0m\u001b[0;34m,\u001b[0m \u001b[0mcount\u001b[0m\u001b[0;34m,\u001b[0m \u001b[0mstep\u001b[0m\u001b[0;34m,\u001b[0m \u001b[0mscalar\u001b[0m \u001b[0;34m=\u001b[0m \u001b[0m_handle_simple\u001b[0m\u001b[0;34m(\u001b[0m\u001b[0mself\u001b[0m\u001b[0;34m.\u001b[0m\u001b[0mshape\u001b[0m\u001b[0;34m,\u001b[0m\u001b[0margs\u001b[0m\u001b[0;34m)\u001b[0m\u001b[0;34m\u001b[0m\u001b[0;34m\u001b[0m\u001b[0m\n\u001b[0m\u001b[1;32m    262\u001b[0m \u001b[0;34m\u001b[0m\u001b[0m\n\u001b[1;32m    263\u001b[0m         \u001b[0mself\u001b[0m\u001b[0;34m.\u001b[0m\u001b[0m_id\u001b[0m\u001b[0;34m.\u001b[0m\u001b[0mselect_hyperslab\u001b[0m\u001b[0;34m(\u001b[0m\u001b[0mstart\u001b[0m\u001b[0;34m,\u001b[0m \u001b[0mcount\u001b[0m\u001b[0;34m,\u001b[0m \u001b[0mstep\u001b[0m\u001b[0;34m)\u001b[0m\u001b[0;34m\u001b[0m\u001b[0;34m\u001b[0m\u001b[0m\n",
      "\u001b[0;32m/usr/local/easybuild/software/Tensorflow/1.15.0-GCC-6.2.0-Python-3.7.1-GPU/lib/python3.7/site-packages/h5py/_hl/selections.py\u001b[0m in \u001b[0;36m_handle_simple\u001b[0;34m(shape, args)\u001b[0m\n\u001b[1;32m    464\u001b[0m         \u001b[0;32melse\u001b[0m\u001b[0;34m:\u001b[0m\u001b[0;34m\u001b[0m\u001b[0;34m\u001b[0m\u001b[0m\n\u001b[1;32m    465\u001b[0m             \u001b[0;32mtry\u001b[0m\u001b[0;34m:\u001b[0m\u001b[0;34m\u001b[0m\u001b[0;34m\u001b[0m\u001b[0m\n\u001b[0;32m--> 466\u001b[0;31m                 \u001b[0mx\u001b[0m\u001b[0;34m,\u001b[0m\u001b[0my\u001b[0m\u001b[0;34m,\u001b[0m\u001b[0mz\u001b[0m \u001b[0;34m=\u001b[0m \u001b[0m_translate_int\u001b[0m\u001b[0;34m(\u001b[0m\u001b[0mint\u001b[0m\u001b[0;34m(\u001b[0m\u001b[0marg\u001b[0m\u001b[0;34m)\u001b[0m\u001b[0;34m,\u001b[0m \u001b[0mlength\u001b[0m\u001b[0;34m)\u001b[0m\u001b[0;34m\u001b[0m\u001b[0;34m\u001b[0m\u001b[0m\n\u001b[0m\u001b[1;32m    467\u001b[0m                 \u001b[0ms\u001b[0m \u001b[0;34m=\u001b[0m \u001b[0;32mTrue\u001b[0m\u001b[0;34m\u001b[0m\u001b[0;34m\u001b[0m\u001b[0m\n\u001b[1;32m    468\u001b[0m             \u001b[0;32mexcept\u001b[0m \u001b[0mTypeError\u001b[0m\u001b[0;34m:\u001b[0m\u001b[0;34m\u001b[0m\u001b[0;34m\u001b[0m\u001b[0m\n",
      "\u001b[0;32m/usr/local/easybuild/software/Tensorflow/1.15.0-GCC-6.2.0-Python-3.7.1-GPU/lib/python3.7/site-packages/h5py/_hl/selections.py\u001b[0m in \u001b[0;36m_translate_int\u001b[0;34m(exp, length)\u001b[0m\n\u001b[1;32m    484\u001b[0m \u001b[0;34m\u001b[0m\u001b[0m\n\u001b[1;32m    485\u001b[0m     \u001b[0;32mif\u001b[0m \u001b[0;32mnot\u001b[0m \u001b[0;36m0\u001b[0m\u001b[0;34m<=\u001b[0m\u001b[0mexp\u001b[0m\u001b[0;34m<\u001b[0m\u001b[0mlength\u001b[0m\u001b[0;34m:\u001b[0m\u001b[0;34m\u001b[0m\u001b[0;34m\u001b[0m\u001b[0m\n\u001b[0;32m--> 486\u001b[0;31m         \u001b[0;32mraise\u001b[0m \u001b[0mValueError\u001b[0m\u001b[0;34m(\u001b[0m\u001b[0;34m\"Index (%s) out of range (0-%s)\"\u001b[0m \u001b[0;34m%\u001b[0m \u001b[0;34m(\u001b[0m\u001b[0mexp\u001b[0m\u001b[0;34m,\u001b[0m \u001b[0mlength\u001b[0m\u001b[0;34m-\u001b[0m\u001b[0;36m1\u001b[0m\u001b[0;34m)\u001b[0m\u001b[0;34m)\u001b[0m\u001b[0;34m\u001b[0m\u001b[0;34m\u001b[0m\u001b[0m\n\u001b[0m\u001b[1;32m    487\u001b[0m \u001b[0;34m\u001b[0m\u001b[0m\n\u001b[1;32m    488\u001b[0m     \u001b[0;32mreturn\u001b[0m \u001b[0mexp\u001b[0m\u001b[0;34m,\u001b[0m \u001b[0;36m1\u001b[0m\u001b[0;34m,\u001b[0m \u001b[0;36m1\u001b[0m\u001b[0;34m\u001b[0m\u001b[0;34m\u001b[0m\u001b[0m\n",
      "\u001b[0;31mValueError\u001b[0m: Index (99) out of range (0-98)"
     ]
    }
   ],
   "source": [
    "for ti in range(1):\n",
    "    for j in range(100):\n",
    "        cols = (ti, sad_h5['pos'][j], sad_h5['chr'][j], sad_h5['SAD'][j,ti], sad_h5['target_ids'][ti], sad_h5['target_labels'][ti])\n",
    "        print('%2d %s %s %7.4f  %12s  %s' % cols)"
   ]
  },
  {
   "cell_type": "markdown",
   "metadata": {},
   "source": [
    "These are inconclusive small effect sizes, not surprising given that we're only studying heart CAGE. The proper cell types and experiments would shed more light."
   ]
  },
  {
   "cell_type": "markdown",
   "metadata": {},
   "source": [
    "## SNP expression difference compute"
   ]
  },
  {
   "cell_type": "markdown",
   "metadata": {},
   "source": [
    "Alternatively, we can directly query the predictions at gene TSS's using [basenji_sed.py](https://github.com/calico/basenji/blob/master/bin/basenji_sed.py). Note that I haven't revised these scripts to make use of tf.data, so they are a bit less wieldy right now.\n",
    "\n",
    "[basenji_sed.py](https://github.com/calico/basenji/blob/master/bin/basenji_sed.py) takes as input the gene sequence HDF5 format described in [genes.ipynb](https://github.com/calico/basenji/blob/master/tutorials/genes.ipynb). There's no harm to providing an HDF5 that describes all genes, but it's too big to easily move around so I constructed one that focuses on RFX6.\n",
    "\n",
    "The most relevant options are:\n",
    "\n",
    "| Option/Argument | Value | Note |\n",
    "|:---|:---|:---|\n",
    "| -g | data/human.hg19.genome | Genome assembly chromosome length to bound gene sequences. |\n",
    "| -o | rfx6_sed | Outplot plot directory. |\n",
    "| --rc | | Predict forward and reverse complement versions and average the results. |\n",
    "| -w | 128 | Sequence bin width at which predictions are made. |\n",
    "| params_file | models/params_med.txt | Table of parameters to setup the model architecture and optimization parameters. |\n",
    "| model_file | models/gm12878.tf | Trained saved model prefix. |\n",
    "| genes_hdf5_file | data/rfx6.h5 | HDF5 file specifying gene sequences to query. |\n",
    "| vcf_file | data/rs339331.vcf | VCF file specifying variants to score. |"
   ]
  },
  {
   "cell_type": "markdown",
   "metadata": {},
   "source": [
    "Before running [basenji_sed.py](https://github.com/calico/basenji/blob/master/bin/basenji_sed.py), we need to generate an input data file for RFX6. Using an included GTF file that contains only RFX6, one can use [basenji_hdf5_genes.py](https://github.com/calico/basenji/blob/master/bin/basenji_hdf5_genes.py) to create the required format."
   ]
  },
  {
   "cell_type": "code",
   "execution_count": 25,
   "metadata": {},
   "outputs": [],
   "source": [
    "! ../bin/basenji_hdf5_genes.py -g data/human.hg19.genome -l 131072 -c 0.333 -w 128 data/hg19.ml.fa data/rfx6.gtf data/rfx6.h5\n",
    "\n"
   ]
  },
  {
   "cell_type": "code",
   "execution_count": 26,
   "metadata": {},
   "outputs": [
    {
     "name": "stdout",
     "output_type": "stream",
     "text": [
      "/Users/andyjiang/opt/anaconda3/envs/basenji_old/lib/python3.7/site-packages/tensorflow/python/framework/dtypes.py:526: FutureWarning: Passing (type, 1) or '1type' as a synonym of type is deprecated; in a future version of numpy, it will be understood as (type, (1,)) / '(1,)type'.\n",
      "  _np_qint8 = np.dtype([(\"qint8\", np.int8, 1)])\n",
      "/Users/andyjiang/opt/anaconda3/envs/basenji_old/lib/python3.7/site-packages/tensorflow/python/framework/dtypes.py:527: FutureWarning: Passing (type, 1) or '1type' as a synonym of type is deprecated; in a future version of numpy, it will be understood as (type, (1,)) / '(1,)type'.\n",
      "  _np_quint8 = np.dtype([(\"quint8\", np.uint8, 1)])\n",
      "/Users/andyjiang/opt/anaconda3/envs/basenji_old/lib/python3.7/site-packages/tensorflow/python/framework/dtypes.py:528: FutureWarning: Passing (type, 1) or '1type' as a synonym of type is deprecated; in a future version of numpy, it will be understood as (type, (1,)) / '(1,)type'.\n",
      "  _np_qint16 = np.dtype([(\"qint16\", np.int16, 1)])\n",
      "/Users/andyjiang/opt/anaconda3/envs/basenji_old/lib/python3.7/site-packages/tensorflow/python/framework/dtypes.py:529: FutureWarning: Passing (type, 1) or '1type' as a synonym of type is deprecated; in a future version of numpy, it will be understood as (type, (1,)) / '(1,)type'.\n",
      "  _np_quint16 = np.dtype([(\"quint16\", np.uint16, 1)])\n",
      "/Users/andyjiang/opt/anaconda3/envs/basenji_old/lib/python3.7/site-packages/tensorflow/python/framework/dtypes.py:530: FutureWarning: Passing (type, 1) or '1type' as a synonym of type is deprecated; in a future version of numpy, it will be understood as (type, (1,)) / '(1,)type'.\n",
      "  _np_qint32 = np.dtype([(\"qint32\", np.int32, 1)])\n",
      "/Users/andyjiang/opt/anaconda3/envs/basenji_old/lib/python3.7/site-packages/tensorflow/python/framework/dtypes.py:535: FutureWarning: Passing (type, 1) or '1type' as a synonym of type is deprecated; in a future version of numpy, it will be understood as (type, (1,)) / '(1,)type'.\n",
      "  np_resource = np.dtype([(\"resource\", np.ubyte, 1)])\n",
      "Intersecting gene sequences with SNPs.../bin/sh: bedtools: command not found\n",
      "1 sequences w/ SNPs\n",
      "{'seq_length': 131072, 'target_pool': 128, 'target_length': 1024, 'num_genomes': 2, 'num_targets': [5313, 1643], 'batch_size': 4, 'batch_buffer': 8192, 'nonlinearity': 'gelu', 'link': 'softplus', 'loss': 'poisson', 'optimizer': 'sgd', 'learning_rate': 0.15, 'momentum': 0.99, 'grad_clip': 2, 'learning_decay_steps': 3000000, 'learning_decay_rate': 0.5, 'batch_norm_momentum': 0.9, 'cnn_l2_scale': 1e-09, 'final_l1_scale': 1e-09, 'architecture': 'dilated_residual', 'conv_dna_filters': 288, 'conv_dna_filter_size': 15, 'conv_dna_pool': 2, 'conv_dna_dropout': 0, 'conv_reduce_pool': 2, 'conv_reduce_dropout': 0, 'conv_dilate_filters': 384, 'conv_dilate_rate_mult': 1.5, 'conv_dilate_rate_max': 96, 'conv_dilate_dropout': 0.3, 'conv_final_filters': 1536, 'conv_final_dropout': 0.05, 'conv_reduce_filter_size': 5, 'conv_reduce_filters_mult': 1.1776}\n",
      "Traceback (most recent call last):\n",
      "  File \"../bin/basenji_sed.py\", line 466, in <module>\n",
      "    main()\n",
      "  File \"../bin/basenji_sed.py\", line 210, in main\n",
      "    target_ids = ['t%d'%ti for ti in range(job['num_targets'])]\n",
      "TypeError: 'list' object cannot be interpreted as an integer\n"
     ]
    }
   ],
   "source": [
    "! ../bin/basenji_sed.py -a -g data/human.hg19.genome -o output/rfx6_sed --rc models/params.txt models/lcl/model_human.tf data/rfx6.h5 data/rs339331.vcf\n",
    "\n"
   ]
  },
  {
   "cell_type": "markdown",
   "metadata": {},
   "source": [
    "## SNP expression difference compute"
   ]
  },
  {
   "cell_type": "code",
   "execution_count": 23,
   "metadata": {},
   "outputs": [
    {
     "name": "stdout",
     "output_type": "stream",
     "text": [
      "rsid ref alt gene tss_dist ref_pred alt_pred sed ser target_index target_id target_label\r\n"
     ]
    }
   ],
   "source": [
    "! sort -k9 -g output/rfx6_sed/sed_gene.txt"
   ]
  },
  {
   "cell_type": "code",
   "execution_count": 24,
   "metadata": {},
   "outputs": [
    {
     "name": "stdout",
     "output_type": "stream",
     "text": [
      "rsid ref alt gene tss_dist ref_pred alt_pred sed ser target_index target_id target_label\r\n"
     ]
    }
   ],
   "source": [
    "! sort -k9 -gr output/rfx6_sed/sed_gene.txt"
   ]
  },
  {
   "cell_type": "code",
   "execution_count": null,
   "metadata": {},
   "outputs": [],
   "source": []
  }
 ],
 "metadata": {
  "kernelspec": {
   "display_name": "Python 3",
   "language": "python",
   "name": "python3"
  },
  "language_info": {
   "codemirror_mode": {
    "name": "ipython",
    "version": 3
   },
   "file_extension": ".py",
   "mimetype": "text/x-python",
   "name": "python",
   "nbconvert_exporter": "python",
   "pygments_lexer": "ipython3",
   "version": "3.7.1"
  }
 },
 "nbformat": 4,
 "nbformat_minor": 2
}
